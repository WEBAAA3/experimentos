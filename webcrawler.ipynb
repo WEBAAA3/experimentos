{
  "nbformat": 4,
  "nbformat_minor": 0,
  "metadata": {
    "colab": {
      "provenance": [],
      "authorship_tag": "ABX9TyN5dBTFvxwci6BkmvPI1bBb",
      "include_colab_link": true
    },
    "kernelspec": {
      "name": "python3",
      "display_name": "Python 3"
    },
    "language_info": {
      "name": "python"
    }
  },
  "cells": [
    {
      "cell_type": "markdown",
      "metadata": {
        "id": "view-in-github",
        "colab_type": "text"
      },
      "source": [
        "<a href=\"https://colab.research.google.com/github/WEBAAA3/experimentos/blob/main/webcrawler.ipynb\" target=\"_parent\"><img src=\"https://colab.research.google.com/assets/colab-badge.svg\" alt=\"Open In Colab\"/></a>"
      ]
    },
    {
      "cell_type": "code",
      "source": [
        "pip install GNetMine.py"
      ],
      "metadata": {
        "id": "ymFouxNxXNAz",
        "outputId": "63d8a039-7b7b-4d98-8090-9edd1ca542c2",
        "colab": {
          "base_uri": "https://localhost:8080/"
        }
      },
      "execution_count": null,
      "outputs": [
        {
          "output_type": "stream",
          "name": "stdout",
          "text": [
            "Looking in indexes: https://pypi.org/simple, https://us-python.pkg.dev/colab-wheels/public/simple/\n",
            "Collecting https://github.com/TianhangSun/PathSim-GNetMine/blob/master/GNetMine.py\n",
            "  Downloading https://github.com/TianhangSun/PathSim-GNetMine/blob/master/GNetMine.py\n",
            "\u001b[K     \\ 209 kB 27.7 MB/s\n",
            "\u001b[31m  ERROR: Cannot unpack file /tmp/pip-unpack-1tbzv7o2/GNetMine.py (downloaded from /tmp/pip-req-build-6ulwr_q7, content-type: text/html; charset=utf-8); cannot detect archive format\u001b[0m\n",
            "\u001b[31mERROR: Cannot determine archive format of /tmp/pip-req-build-6ulwr_q7\u001b[0m\n",
            "\u001b[?25h"
          ]
        }
      ]
    },
    {
      "cell_type": "code",
      "execution_count": null,
      "metadata": {
        "colab": {
          "base_uri": "https://localhost:8080/"
        },
        "id": "rG9j582IOfoe",
        "outputId": "755f86ca-bd14-4825-e40f-5f1d4c5556cb"
      },
      "outputs": [
        {
          "output_type": "stream",
          "name": "stdout",
          "text": [
            "Looking in indexes: https://pypi.org/simple, https://us-python.pkg.dev/colab-wheels/public/simple/\n",
            "Requirement already satisfied: requests in /usr/local/lib/python3.7/dist-packages (2.23.0)\n",
            "Requirement already satisfied: beautifulsoup4 in /usr/local/lib/python3.7/dist-packages (4.6.3)\n",
            "Requirement already satisfied: lxml in /usr/local/lib/python3.7/dist-packages (4.2.6)\n",
            "Requirement already satisfied: chardet<4,>=3.0.2 in /usr/local/lib/python3.7/dist-packages (from requests) (3.0.4)\n",
            "Requirement already satisfied: idna<3,>=2.5 in /usr/local/lib/python3.7/dist-packages (from requests) (2.10)\n",
            "Requirement already satisfied: urllib3!=1.25.0,!=1.25.1,<1.26,>=1.21.1 in /usr/local/lib/python3.7/dist-packages (from requests) (1.24.3)\n",
            "Requirement already satisfied: certifi>=2017.4.17 in /usr/local/lib/python3.7/dist-packages (from requests) (2022.6.15)\n"
          ]
        }
      ],
      "source": [
        "pip install requests beautifulsoup4 lxml"
      ]
    },
    {
      "cell_type": "code",
      "source": [
        "\n",
        "import requests\n",
        "\n",
        "\n",
        "# Lat-Lon of New York\n",
        "URL = \"https://weather.com/weather/today/l/40.75,-73.98\"\n",
        "resp = requests.get(URL)\n",
        "print(resp.status_code)\n",
        "print(resp.text)\n"
      ],
      "metadata": {
        "id": "amcWZ_3aOj2t"
      },
      "execution_count": null,
      "outputs": []
    },
    {
      "cell_type": "code",
      "source": [
        "\n",
        "import io\n",
        "import pandas as pd\n",
        "import requests\n",
        "\n",
        "URL = \"https://fred.stlouisfed.org/graph/fredgraph.csv?id=T10YIE&cosd=2017-04-14&coed=2022-04-14\"\n",
        "resp = requests.get(URL)\n",
        "if resp.status_code == 200:\n",
        "   csvtext = resp.text\n",
        "   csvbuffer = io.StringIO(csvtext)\n",
        "   df = pd.read_csv(csvbuffer)\n",
        "   print(df)"
      ],
      "metadata": {
        "colab": {
          "base_uri": "https://localhost:8080/"
        },
        "id": "1VPENjHfPFmi",
        "outputId": "a77857a2-e461-4d86-9f1e-1b3e4dfa6b53"
      },
      "execution_count": null,
      "outputs": [
        {
          "output_type": "stream",
          "name": "stdout",
          "text": [
            "            DATE T10YIE\n",
            "0     2017-04-17   1.88\n",
            "1     2017-04-18   1.85\n",
            "2     2017-04-19   1.85\n",
            "3     2017-04-20   1.85\n",
            "4     2017-04-21   1.84\n",
            "...          ...    ...\n",
            "1299  2022-04-08   2.87\n",
            "1300  2022-04-11   2.91\n",
            "1301  2022-04-12   2.86\n",
            "1302  2022-04-13    2.8\n",
            "1303  2022-04-14   2.89\n",
            "\n",
            "[1304 rows x 2 columns]\n"
          ]
        }
      ]
    },
    {
      "cell_type": "code",
      "source": [
        "\n",
        "import requests\n",
        "\n",
        "URL = \"https://api.github.com/users/jbrownlee\"\n",
        "resp = requests.get(URL)\n",
        "if resp.status_code == 200:\n",
        "    data = resp.json()\n",
        "    print(data)"
      ],
      "metadata": {
        "colab": {
          "base_uri": "https://localhost:8080/"
        },
        "id": "0Zj4UvdsPU9u",
        "outputId": "f8206956-16d7-4f17-ae23-8c8ea2593778"
      },
      "execution_count": null,
      "outputs": [
        {
          "output_type": "stream",
          "name": "stdout",
          "text": [
            "{'login': 'jbrownlee', 'id': 12891, 'node_id': 'MDQ6VXNlcjEyODkx', 'avatar_url': 'https://avatars.githubusercontent.com/u/12891?v=4', 'gravatar_id': '', 'url': 'https://api.github.com/users/jbrownlee', 'html_url': 'https://github.com/jbrownlee', 'followers_url': 'https://api.github.com/users/jbrownlee/followers', 'following_url': 'https://api.github.com/users/jbrownlee/following{/other_user}', 'gists_url': 'https://api.github.com/users/jbrownlee/gists{/gist_id}', 'starred_url': 'https://api.github.com/users/jbrownlee/starred{/owner}{/repo}', 'subscriptions_url': 'https://api.github.com/users/jbrownlee/subscriptions', 'organizations_url': 'https://api.github.com/users/jbrownlee/orgs', 'repos_url': 'https://api.github.com/users/jbrownlee/repos', 'events_url': 'https://api.github.com/users/jbrownlee/events{/privacy}', 'received_events_url': 'https://api.github.com/users/jbrownlee/received_events', 'type': 'User', 'site_admin': False, 'name': 'Machine Learning Mastery', 'company': 'Machine Learning Mastery', 'blog': 'http://MachineLearningMastery.com', 'location': None, 'email': None, 'hireable': None, 'bio': 'Making developers awesome at machine learning.', 'twitter_username': None, 'public_repos': 5, 'public_gists': 0, 'followers': 1810, 'following': 1, 'created_at': '2008-06-07T02:20:58Z', 'updated_at': '2022-05-24T18:17:21Z'}\n"
          ]
        }
      ]
    },
    {
      "cell_type": "code",
      "source": [
        "\n",
        "import requests\n",
        "\n",
        "URL = \"https://en.wikipedia.org/static/images/project-logos/enwiki.png\"\n",
        "wikilogo = requests.get(URL)\n",
        "if wikilogo.status_code == 200:\n",
        "    with open(\"enwiki.png\", \"wb\") as fp:\n",
        "        fp.write(wikilogo.content)"
      ],
      "metadata": {
        "id": "IvKAP-IRPb2H"
      },
      "execution_count": null,
      "outputs": []
    },
    {
      "cell_type": "code",
      "source": [
        "\n",
        "...\n",
        "from lxml import etree\n",
        "\n",
        "# Create DOM from HTML text\n",
        "dom = etree.HTML(resp.text)\n",
        "# Search for the temperature element and get the content\n",
        "elements = dom.xpath(\"//span[@data-testid='TemperatureValue' and contains(@class,'CurrentConditions')]\")\n",
        "print(elements[0].text)"
      ],
      "metadata": {
        "id": "xjebJ8puPfal",
        "outputId": "f97d12d5-b8d5-4bb1-b166-8acb00f0b976",
        "colab": {
          "base_uri": "https://localhost:8080/",
          "height": 200
        }
      },
      "execution_count": null,
      "outputs": [
        {
          "output_type": "error",
          "ename": "IndexError",
          "evalue": "ignored",
          "traceback": [
            "\u001b[0;31m---------------------------------------------------------------------------\u001b[0m",
            "\u001b[0;31mIndexError\u001b[0m                                Traceback (most recent call last)",
            "\u001b[0;32m<ipython-input-8-07ecd89a2327>\u001b[0m in \u001b[0;36m<module>\u001b[0;34m()\u001b[0m\n\u001b[1;32m      7\u001b[0m \u001b[0;31m# Search for the temperature element and get the content\u001b[0m\u001b[0;34m\u001b[0m\u001b[0;34m\u001b[0m\u001b[0;34m\u001b[0m\u001b[0m\n\u001b[1;32m      8\u001b[0m \u001b[0melements\u001b[0m \u001b[0;34m=\u001b[0m \u001b[0mdom\u001b[0m\u001b[0;34m.\u001b[0m\u001b[0mxpath\u001b[0m\u001b[0;34m(\u001b[0m\u001b[0;34m\"//span[@data-testid='TemperatureValue' and contains(@class,'CurrentConditions')]\"\u001b[0m\u001b[0;34m)\u001b[0m\u001b[0;34m\u001b[0m\u001b[0;34m\u001b[0m\u001b[0m\n\u001b[0;32m----> 9\u001b[0;31m \u001b[0mprint\u001b[0m\u001b[0;34m(\u001b[0m\u001b[0melements\u001b[0m\u001b[0;34m[\u001b[0m\u001b[0;36m0\u001b[0m\u001b[0;34m]\u001b[0m\u001b[0;34m.\u001b[0m\u001b[0mtext\u001b[0m\u001b[0;34m)\u001b[0m\u001b[0;34m\u001b[0m\u001b[0;34m\u001b[0m\u001b[0m\n\u001b[0m",
            "\u001b[0;31mIndexError\u001b[0m: list index out of range"
          ]
        }
      ]
    }
  ]
}